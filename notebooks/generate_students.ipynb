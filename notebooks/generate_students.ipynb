{
 "cells": [
  {
   "cell_type": "code",
   "execution_count": 10,
   "metadata": {},
   "outputs": [],
   "source": [
    "import json\n",
    "import random\n",
    "from faker.providers.person.en import Provider\n",
    "import string"
   ]
  },
  {
   "cell_type": "code",
   "execution_count": 2,
   "metadata": {},
   "outputs": [],
   "source": [
    "seniority = ['Y1', 'Y2', 'Y3', 'Y4']"
   ]
  },
  {
   "cell_type": "code",
   "execution_count": 35,
   "metadata": {},
   "outputs": [
    {
     "name": "stderr",
     "output_type": "stream",
     "text": [
      "UsageError: Line magic function `%%capture` not found.\n"
     ]
    }
   ],
   "source": [
    "student_list = []\n",
    "'''\n",
    "{\n",
    "    'student_name': XXX\n",
    "    'username': e...\n",
    "    'password': ...\n",
    "    'email': ...\n",
    "    'seniority': ..\n",
    "    'major':\n",
    "    'minor':\n",
    "}\n",
    "'''\n",
    "%%capture"
   ]
  },
  {
   "cell_type": "markdown",
   "metadata": {},
   "source": [
    "### Generate CS students info"
   ]
  },
  {
   "cell_type": "code",
   "execution_count": 36,
   "metadata": {},
   "outputs": [],
   "source": [
    "def get_pw(letters_count, digits_count):\n",
    "    letters = ''.join((random.choice(string.ascii_letters) for i in range(letters_count)))\n",
    "    digits = ''.join((random.choice(string.digits) for i in range(digits_count)))\n",
    "    special = random.choice(string.punctuation)\n",
    "\n",
    "    # Convert resultant string to list and shuffle it to mix letters and digits\n",
    "    sample_list = list(letters + digits + special)\n",
    "    random.shuffle(sample_list)\n",
    "    # convert list to string\n",
    "    final_string = ''.join(sample_list)\n",
    "    return final_string"
   ]
  },
  {
   "cell_type": "code",
   "execution_count": 37,
   "metadata": {},
   "outputs": [],
   "source": [
    "random.seed(4302)\n",
    "num_cs_stu = 500\n",
    "\n",
    "# Generate seniority\n",
    "seniority = random.choices(seniority, k=num_cs_stu)\n",
    "\n",
    "# Generate unique names\n",
    "student_name = random.sample(list(set(Provider.first_names)), k=num_cs_stu)\n",
    "\n",
    "# Generate unique usernames\n",
    "username = random.choices(range(1000000, 10000000), k=num_cs_stu)\n",
    "username = list(map(lambda x: f'e{x}', username))\n",
    "\n",
    "# Generate emails\n",
    "email = list(map(lambda x: f'e{x}@u.nus.edu', username))\n",
    "\n",
    "# Generate passwords\n",
    "combi = [(12,2), (11,3), (10,4), (9,5), (8,6), (7,7)]\n",
    "password = set()\n",
    "while len(password) < num_cs_stu:\n",
    "    password.add(get_pw(*random.choice(combi)))\n",
    "password = list(password)"
   ]
  },
  {
   "cell_type": "code",
   "execution_count": 38,
   "metadata": {},
   "outputs": [],
   "source": [
    "cs_info = list(zip(student_name, username, password, email, seniority))"
   ]
  },
  {
   "cell_type": "code",
   "execution_count": 39,
   "metadata": {},
   "outputs": [],
   "source": [
    "for info in cs_info:\n",
    "    student = {\n",
    "        'student_name': info[0],\n",
    "        'username': info[1],\n",
    "        'password': info[2],\n",
    "        'email': info[3],\n",
    "        'seniority': info[4],\n",
    "        'major': \"Computer Science\",\n",
    "        'minor': \"NULL\"\n",
    "    }\n",
    "    student_list.append(student)"
   ]
  },
  {
   "cell_type": "markdown",
   "metadata": {},
   "source": [
    "### Generate Math students info"
   ]
  },
  {
   "cell_type": "code",
   "execution_count": 40,
   "metadata": {},
   "outputs": [],
   "source": [
    "random.seed(4302)\n",
    "num_ma_stu = 50\n",
    "\n",
    "# Generate seniority\n",
    "seniority = random.choices(seniority, k=num_ma_stu)\n",
    "\n",
    "# Generate unique names\n",
    "student_name = random.sample(list(set(Provider.first_names)), k=num_ma_stu)\n",
    "\n",
    "# Generate unique usernames\n",
    "username = random.choices(range(1000000, 10000000), k=num_ma_stu)\n",
    "username = list(map(lambda x: f'e{x}', username))\n",
    "\n",
    "# Generate emails\n",
    "email = list(map(lambda x: f'e{x}@u.nus.edu', username))\n",
    "\n",
    "# Generate passwords\n",
    "combi = [(12,2), (11,3), (10,4), (9,5), (8,6), (7,7)]\n",
    "password = set()\n",
    "while len(password) < num_ma_stu:\n",
    "    password.add(get_pw(*random.choice(combi)))\n",
    "password = list(password)"
   ]
  },
  {
   "cell_type": "code",
   "execution_count": 41,
   "metadata": {},
   "outputs": [],
   "source": [
    "ma_info = list(zip(student_name, username, password, email, seniority))"
   ]
  },
  {
   "cell_type": "code",
   "execution_count": 42,
   "metadata": {},
   "outputs": [],
   "source": [
    "for info in ma_info:\n",
    "    student = {\n",
    "        'student_name': info[0],\n",
    "        'username': info[1],\n",
    "        'password': info[2],\n",
    "        'email': info[3],\n",
    "        'seniority': info[4],\n",
    "        'major': \"Mathematics\",\n",
    "        'minor': random.choice([\"NULL\", \"Computer Science\"])\n",
    "    }\n",
    "    student_list.append(student)"
   ]
  },
  {
   "cell_type": "code",
   "execution_count": 45,
   "metadata": {},
   "outputs": [],
   "source": [
    "with open(\"../resources/student_info.json\", 'w') as f:\n",
    "    json.dump(student_list, f)"
   ]
  },
  {
   "cell_type": "code",
   "execution_count": null,
   "metadata": {},
   "outputs": [],
   "source": []
  }
 ],
 "metadata": {
  "interpreter": {
   "hash": "5e950a793012b953db68e154ff80c0434e602018c26ac5dbaef8857d76c580c5"
  },
  "kernelspec": {
   "display_name": "Python 3.7.6 ('base')",
   "language": "python",
   "name": "python3"
  },
  "language_info": {
   "codemirror_mode": {
    "name": "ipython",
    "version": 3
   },
   "file_extension": ".py",
   "mimetype": "text/x-python",
   "name": "python",
   "nbconvert_exporter": "python",
   "pygments_lexer": "ipython3",
   "version": "3.7.6"
  },
  "orig_nbformat": 4
 },
 "nbformat": 4,
 "nbformat_minor": 2
}
