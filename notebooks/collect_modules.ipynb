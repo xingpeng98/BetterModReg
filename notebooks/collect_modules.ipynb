{
 "cells": [
  {
   "cell_type": "code",
   "execution_count": 31,
   "metadata": {},
   "outputs": [],
   "source": [
    "import requests\n",
    "import json\n",
    "import random"
   ]
  },
  {
   "cell_type": "code",
   "execution_count": 32,
   "metadata": {},
   "outputs": [],
   "source": [
    "# Get module information\n",
    "response = requests.get(\"https://api.nusmods.com/v2/2020-2021/moduleInfo.json\")"
   ]
  },
  {
   "cell_type": "code",
   "execution_count": 33,
   "metadata": {},
   "outputs": [],
   "source": [
    "# Add vacancies\n",
    "modules = response.json()\n",
    "for mod in modules:\n",
    "    mod['vacancy'] = random.choice(range(50, 101))"
   ]
  },
  {
   "cell_type": "code",
   "execution_count": 34,
   "metadata": {},
   "outputs": [],
   "source": [
    "# Store full module information\n",
    "with open(\"../resources/module_info.json\", 'w') as f:\n",
    "    json.dump(modules, f)"
   ]
  },
  {
   "cell_type": "code",
   "execution_count": 37,
   "metadata": {},
   "outputs": [],
   "source": [
    "# Store filtered CS modules\n",
    "soc_mods = list(filter(lambda x: x['moduleCode'][:2] == 'CS', modules))\n",
    "for mod in soc_mods:\n",
    "    mod['course'] = \"Computer Science\"\n",
    "\n",
    "# Store to json\n",
    "with open(\"../resources/module_info_soc.json\", 'w') as f:\n",
    "    json.dump(soc_mods, f)"
   ]
  }
 ],
 "metadata": {
  "interpreter": {
   "hash": "0c80b27fa618606ee9b4fe0df7ec90a63cf6fd85f122ce7307b2263b58d143f0"
  },
  "kernelspec": {
   "display_name": "Python 3.8.5 64-bit",
   "language": "python",
   "name": "python3"
  },
  "language_info": {
   "codemirror_mode": {
    "name": "ipython",
    "version": 3
   },
   "file_extension": ".py",
   "mimetype": "text/x-python",
   "name": "python",
   "nbconvert_exporter": "python",
   "pygments_lexer": "ipython3",
   "version": "3.7.6"
  },
  "orig_nbformat": 4
 },
 "nbformat": 4,
 "nbformat_minor": 2
}
